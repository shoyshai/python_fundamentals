{
 "cells": [
  {
   "cell_type": "code",
   "execution_count": 1,
   "metadata": {},
   "outputs": [],
   "source": [
    "#introduction to for loop in python"
   ]
  },
  {
   "cell_type": "code",
   "execution_count": 2,
   "metadata": {},
   "outputs": [],
   "source": [
    "students=[\"Shoyeb\",\"Kartik\",\"Shazia\",\"Priyanka\",\"Praveen\",\"Afsha\",\"Bhavna\"]"
   ]
  },
  {
   "cell_type": "code",
   "execution_count": 3,
   "metadata": {},
   "outputs": [
    {
     "name": "stdout",
     "output_type": "stream",
     "text": [
      "['Shoyeb', 'Kartik', 'Shazia', 'Priyanka', 'Praveen', 'Afsha', 'Bhavna']\n"
     ]
    }
   ],
   "source": [
    "print(students)"
   ]
  },
  {
   "cell_type": "code",
   "execution_count": 4,
   "metadata": {},
   "outputs": [
    {
     "data": {
      "text/plain": [
       "list"
      ]
     },
     "execution_count": 4,
     "metadata": {},
     "output_type": "execute_result"
    }
   ],
   "source": [
    "type(students)"
   ]
  },
  {
   "cell_type": "code",
   "execution_count": 5,
   "metadata": {},
   "outputs": [],
   "source": [
    "#req: i want to appreciate students for sending practive files daily"
   ]
  },
  {
   "cell_type": "code",
   "execution_count": 9,
   "metadata": {},
   "outputs": [
    {
     "name": "stdout",
     "output_type": "stream",
     "text": [
      "thank you for sending practive files daily,  Shoyeb\n"
     ]
    }
   ],
   "source": [
    "print(F\"thank you for sending practive files daily, \",students[0].title())"
   ]
  },
  {
   "cell_type": "code",
   "execution_count": 10,
   "metadata": {},
   "outputs": [
    {
     "name": "stdout",
     "output_type": "stream",
     "text": [
      "thank you for sending practive files daily,  Kartik\n"
     ]
    }
   ],
   "source": [
    "print(F\"thank you for sending practive files daily, \",students[1].title())"
   ]
  },
  {
   "cell_type": "code",
   "execution_count": 15,
   "metadata": {},
   "outputs": [
    {
     "name": "stdout",
     "output_type": "stream",
     "text": [
      "Thank you for sending the practice files daily, Shoyeb\n",
      "Thank you for sending the practice files daily, Kartik\n",
      "Thank you for sending the practice files daily, Shazia\n",
      "Thank you for sending the practice files daily, Priyanka\n",
      "Thank you for sending the practice files daily, Praveen\n",
      "Thank you for sending the practice files daily, Afsha\n",
      "Thank you for sending the practice files daily, Bhavna\n"
     ]
    }
   ],
   "source": [
    "for x in students:\n",
    "    print(f\"Thank you for sending the practice files daily, {x}\")"
   ]
  },
  {
   "cell_type": "code",
   "execution_count": 16,
   "metadata": {},
   "outputs": [
    {
     "name": "stdout",
     "output_type": "stream",
     "text": [
      "Keep up the good work, Shoyeb\n",
      "Keep up the good work, Kartik\n",
      "Keep up the good work, Shazia\n",
      "Keep up the good work, Priyanka\n",
      "Keep up the good work, Praveen\n",
      "Keep up the good work, Afsha\n",
      "Keep up the good work, Bhavna\n"
     ]
    }
   ],
   "source": [
    "for a in students:\n",
    "    print(f\"Keep up the good work, {a}\")\n"
   ]
  },
  {
   "cell_type": "code",
   "execution_count": 17,
   "metadata": {},
   "outputs": [
    {
     "name": "stdout",
     "output_type": "stream",
     "text": [
      "Keep up the good work, Shoyeb\n",
      "i will be looking forward to receive the files of today Shoyeb.\n",
      "\t\n",
      "Keep up the good work, Kartik\n",
      "i will be looking forward to receive the files of today Kartik.\n",
      "\t\n",
      "Keep up the good work, Shazia\n",
      "i will be looking forward to receive the files of today Shazia.\n",
      "\t\n",
      "Keep up the good work, Priyanka\n",
      "i will be looking forward to receive the files of today Priyanka.\n",
      "\t\n",
      "Keep up the good work, Praveen\n",
      "i will be looking forward to receive the files of today Praveen.\n",
      "\t\n",
      "Keep up the good work, Afsha\n",
      "i will be looking forward to receive the files of today Afsha.\n",
      "\t\n",
      "Keep up the good work, Bhavna\n",
      "i will be looking forward to receive the files of today Bhavna.\n",
      "\t\n"
     ]
    }
   ],
   "source": [
    "for a in students:\n",
    "    print(f\"Keep up the good work, {a}\")\n",
    "    print(f\"i will be looking forward to receive the files of today {a}.\\n\\t\")"
   ]
  },
  {
   "cell_type": "code",
   "execution_count": 18,
   "metadata": {},
   "outputs": [
    {
     "name": "stdout",
     "output_type": "stream",
     "text": [
      "Keep up the good work, Shoyeb\n",
      "i will be looking forward to receive the files of today Shoyeb.\n",
      "\t\n",
      "Keep up the good work, Kartik\n",
      "i will be looking forward to receive the files of today Kartik.\n",
      "\t\n",
      "Keep up the good work, Shazia\n",
      "i will be looking forward to receive the files of today Shazia.\n",
      "\t\n",
      "Keep up the good work, Priyanka\n",
      "i will be looking forward to receive the files of today Priyanka.\n",
      "\t\n",
      "Keep up the good work, Praveen\n",
      "i will be looking forward to receive the files of today Praveen.\n",
      "\t\n",
      "Keep up the good work, Afsha\n",
      "i will be looking forward to receive the files of today Afsha.\n",
      "\t\n",
      "Keep up the good work, Bhavna\n",
      "i will be looking forward to receive the files of today Bhavna.\n",
      "\t\n",
      "thank you all for showing interest in python\n"
     ]
    }
   ],
   "source": [
    "#oyt of the loop\n",
    "for a in students:\n",
    "    print(f\"Keep up the good work, {a}\")\n",
    "    print(f\"i will be looking forward to receive the files of today {a}.\\n\\t\")\n",
    "    \n",
    "print(\"thank you all for showing interest in python\")    "
   ]
  },
  {
   "cell_type": "code",
   "execution_count": 20,
   "metadata": {},
   "outputs": [
    {
     "ename": "IndentationError",
     "evalue": "expected an indented block (<ipython-input-20-d784fa1e6e90>, line 4)",
     "output_type": "error",
     "traceback": [
      "\u001b[1;36m  File \u001b[1;32m\"<ipython-input-20-d784fa1e6e90>\"\u001b[1;36m, line \u001b[1;32m4\u001b[0m\n\u001b[1;33m    print(f\"Keep up the good work, {a}\")\u001b[0m\n\u001b[1;37m    ^\u001b[0m\n\u001b[1;31mIndentationError\u001b[0m\u001b[1;31m:\u001b[0m expected an indented block\n"
     ]
    }
   ],
   "source": [
    "#indentation error expected an indented block\n",
    "\n",
    "for a in students:\n",
    "print(f\"Keep up the good work, {a}\")\n",
    "print(f\"i will be looking forward to receive the files of today {a}.\\n\\t\")"
   ]
  },
  {
   "cell_type": "code",
   "execution_count": 21,
   "metadata": {},
   "outputs": [],
   "source": [
    "#Range Function\n",
    "#req. I want to have a list of even numbers"
   ]
  },
  {
   "cell_type": "code",
   "execution_count": 24,
   "metadata": {},
   "outputs": [],
   "source": [
    "# range(startvalue,stopvalue,stepcount) #last valueis always exclusive"
   ]
  },
  {
   "cell_type": "code",
   "execution_count": 26,
   "metadata": {},
   "outputs": [
    {
     "name": "stdout",
     "output_type": "stream",
     "text": [
      "[2, 4, 6, 8, 10, 12, 14, 16, 18]\n"
     ]
    }
   ],
   "source": [
    "even_num= list(range(2,20,2))\n",
    "print(even_num)"
   ]
  },
  {
   "cell_type": "code",
   "execution_count": null,
   "metadata": {},
   "outputs": [],
   "source": []
  },
  {
   "cell_type": "code",
   "execution_count": null,
   "metadata": {},
   "outputs": [],
   "source": []
  },
  {
   "cell_type": "code",
   "execution_count": null,
   "metadata": {},
   "outputs": [],
   "source": []
  },
  {
   "cell_type": "code",
   "execution_count": null,
   "metadata": {},
   "outputs": [],
   "source": []
  },
  {
   "cell_type": "code",
   "execution_count": null,
   "metadata": {},
   "outputs": [],
   "source": []
  },
  {
   "cell_type": "code",
   "execution_count": null,
   "metadata": {},
   "outputs": [],
   "source": []
  }
 ],
 "metadata": {
  "kernelspec": {
   "display_name": "Python 3",
   "language": "python",
   "name": "python3"
  },
  "language_info": {
   "codemirror_mode": {
    "name": "ipython",
    "version": 3
   },
   "file_extension": ".py",
   "mimetype": "text/x-python",
   "name": "python",
   "nbconvert_exporter": "python",
   "pygments_lexer": "ipython3",
   "version": "3.8.5"
  }
 },
 "nbformat": 4,
 "nbformat_minor": 4
}
